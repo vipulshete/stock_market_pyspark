{
 "cells": [
  {
   "cell_type": "code",
   "execution_count": 6,
   "metadata": {},
   "outputs": [
    {
     "data": {
      "text/plain": [
       "'\\n    @Author: Vipul Shete\\n    @Date: 2022-12-24\\n    @Last Modified by: Vipul Shete\\n    @Last Modified Date: 2022-12-28\\n    @Title : Stock Market Details and company overview (UC-2).\\n'"
      ]
     },
     "execution_count": 6,
     "metadata": {},
     "output_type": "execute_result"
    }
   ],
   "source": [
    "\"\"\"\n",
    "    @Author: Vipul Shete\n",
    "    @Date: 2022-12-24\n",
    "    @Last Modified by: Vipul Shete\n",
    "    @Last Modified Date: 2022-12-28\n",
    "    @Title : Stock Market Details and company overview (UC-2).\n",
    "\"\"\""
   ]
  },
  {
   "cell_type": "code",
   "execution_count": 4,
   "metadata": {},
   "outputs": [],
   "source": [
    "from alpha_vantage.timeseries import TimeSeries\n",
    "import pandas as pd\n",
    "from pyspark.sql import SparkSession\n",
    "import requests"
   ]
  },
  {
   "cell_type": "code",
   "execution_count": 5,
   "metadata": {},
   "outputs": [
    {
     "name": "stdout",
     "output_type": "stream",
     "text": [
      "22/12/28 10:39:27 WARN Utils: Your hostname, vipul-HP-Pavilion-Laptop-15-cs2xxx resolves to a loopback address: 127.0.1.1; using 192.168.43.246 instead (on interface wlx001ea63c098f)\n",
      "22/12/28 10:39:27 WARN Utils: Set SPARK_LOCAL_IP if you need to bind to another address\n"
     ]
    },
    {
     "name": "stderr",
     "output_type": "stream",
     "text": [
      "Setting default log level to \"WARN\".\n",
      "To adjust logging level use sc.setLogLevel(newLevel). For SparkR, use setLogLevel(newLevel).\n"
     ]
    },
    {
     "name": "stdout",
     "output_type": "stream",
     "text": [
      "22/12/28 10:39:28 WARN NativeCodeLoader: Unable to load native-hadoop library for your platform... using builtin-java classes where applicable\n"
     ]
    }
   ],
   "source": [
    "spark = SparkSession.builder\\\n",
    "                    .master(\"local\")\\\n",
    "                    .appName('stock_market_UC1')\\\n",
    "                    .getOrCreate()"
   ]
  },
  {
   "cell_type": "code",
   "execution_count": 3,
   "metadata": {},
   "outputs": [
    {
     "data": {
      "text/html": [
       "\n",
       "            <div>\n",
       "                <p><b>SparkSession - in-memory</b></p>\n",
       "                \n",
       "        <div>\n",
       "            <p><b>SparkContext</b></p>\n",
       "\n",
       "            <p><a href=\"http://192.168.43.246:4041\">Spark UI</a></p>\n",
       "\n",
       "            <dl>\n",
       "              <dt>Version</dt>\n",
       "                <dd><code>v3.3.0</code></dd>\n",
       "              <dt>Master</dt>\n",
       "                <dd><code>local</code></dd>\n",
       "              <dt>AppName</dt>\n",
       "                <dd><code>stock_market_UC1</code></dd>\n",
       "            </dl>\n",
       "        </div>\n",
       "        \n",
       "            </div>\n",
       "        "
      ],
      "text/plain": [
       "<pyspark.sql.session.SparkSession at 0x7fe4f1ea8e20>"
      ]
     },
     "execution_count": 3,
     "metadata": {},
     "output_type": "execute_result"
    }
   ],
   "source": [
    "spark"
   ]
  },
  {
   "cell_type": "code",
   "execution_count": 9,
   "metadata": {},
   "outputs": [],
   "source": [
    "def daily_stock_price(company_name, date):\n",
    "    \"\"\"\n",
    "        Description:\n",
    "            Get the stock daily status using alpha vantage (open , high, low, close values)\n",
    "        Parameter:\n",
    "            company_name: name of company (symbol used in alpha vantage docomenation)\n",
    "            date: date of records.\n",
    "        Return: \n",
    "            stock details open, high, low, close \n",
    "    \"\"\"\n",
    "    url = f\"https://www.alphavantage.co/query?function=TIME_SERIES_DAILY_ADJUSTED&symbol={company_name}&apikey=3ZN85270ZOKUBGMP\"\n",
    "    r = requests.get(url)\n",
    "    data = r.json()\n",
    "    date_stock_price = data[\"Time Series (Daily)\"][date]\n",
    "    \n",
    "    open = date_stock_price[\"1. open\"]\n",
    "    high = date_stock_price[\"2. high\"]\n",
    "    low = date_stock_price[\"3. low\"]\n",
    "    close = date_stock_price[\"4. close\"]\n",
    "    \n",
    "    return open, high, low, close\n",
    "\n",
    "def company_details(company_name, date):\n",
    "    \"\"\"\n",
    "        Description:\n",
    "            make a dataframe of single company\n",
    "        Parameter:\n",
    "            company_name: name of company (symbol used in alpha vantage docomenation)\n",
    "            date: date of records.\n",
    "        Return: \n",
    "            dataframe \n",
    "    \"\"\"\n",
    "    open, high, low, close = daily_stock_price(company_name, date)\n",
    "\n",
    "    columns = [\"Company_name\", \"Open\", \"High\", \"Low\", \"Close\"]\n",
    "    values = [(company_name, open, high, low, close)]\n",
    "\n",
    "    stock_info = spark.createDataFrame(values, columns)\n",
    "    \n",
    "    return stock_info"
   ]
  },
  {
   "cell_type": "code",
   "execution_count": 9,
   "metadata": {},
   "outputs": [],
   "source": [
    "def company_overview(company_name):\n",
    "    \"\"\"\n",
    "        Description:\n",
    "            Get the company overview using alpha vantage (pe_ratio and gross_profit)\n",
    "        Parameter:\n",
    "            company_name: name of company (symbol used in alpha vantage docomenation)\n",
    "            date: date of records.\n",
    "        Return: \n",
    "            stock overview pe_ratio, gross_profit\n",
    "    \"\"\"\n",
    "    url = f\"https://www.alphavantage.co/query?function=OVERVIEW&symbol={company_name}&apikey=3ZN85270ZOKUBGMP\"\n",
    "    r = requests.get(url)\n",
    "    data = r.json()\n",
    "    \n",
    "    pe_ratio = data[\"PERatio\"]\n",
    "    gross_profit = data[\"GrossProfitTTM\"]\n",
    "\n",
    "    return pe_ratio, gross_profit\n",
    "    "
   ]
  },
  {
   "cell_type": "code",
   "execution_count": 10,
   "metadata": {},
   "outputs": [
    {
     "name": "stdout",
     "output_type": "stream",
     "text": [
      "{'Symbol': 'IBM', 'AssetType': 'Common Stock', 'Name': 'International Business Machines', 'Description': 'International Business Machines Corporation (IBM) is an American multinational technology company headquartered in Armonk, New York, with operations in over 170 countries. The company began in 1911, founded in Endicott, New York, as the Computing-Tabulating-Recording Company (CTR) and was renamed International Business Machines in 1924. IBM is incorporated in New York. IBM produces and sells computer hardware, middleware and software, and provides hosting and consulting services in areas ranging from mainframe computers to nanotechnology. IBM is also a major research organization, holding the record for most annual U.S. patents generated by a business (as of 2020) for 28 consecutive years. Inventions by IBM include the automated teller machine (ATM), the floppy disk, the hard disk drive, the magnetic stripe card, the relational database, the SQL programming language, the UPC barcode, and dynamic random-access memory (DRAM). The IBM mainframe, exemplified by the System/360, was the dominant computing platform during the 1960s and 1970s.', 'CIK': '51143', 'Exchange': 'NYSE', 'Currency': 'USD', 'Country': 'USA', 'Sector': 'TECHNOLOGY', 'Industry': 'COMPUTER & OFFICE EQUIPMENT', 'Address': '1 NEW ORCHARD ROAD, ARMONK, NY, US', 'FiscalYearEnd': 'December', 'LatestQuarter': '2022-09-30', 'MarketCapitalization': '126963720000', 'EBITDA': '12010000000', 'PERatio': '23.26', 'PEGRatio': '1.276', 'BookValue': '22.2', 'DividendPerShare': '6.59', 'DividendYield': '0.0466', 'EPS': '6.09', 'RevenuePerShareTTM': '67.2', 'ProfitMargin': '0.0209', 'OperatingMarginTTM': '0.115', 'ReturnOnAssetsTTM': '0.0322', 'ReturnOnEquityTTM': '0.0648', 'RevenueTTM': '60535001000', 'GrossProfitTTM': '31486000000', 'DilutedEPSTTM': '6.09', 'QuarterlyEarningsGrowthYOY': '0.041', 'QuarterlyRevenueGrowthYOY': '0.065', 'AnalystTargetPrice': '141.66', 'TrailingPE': '23.26', 'ForwardPE': '15.55', 'PriceToSalesRatioTTM': '2.108', 'PriceToBookRatio': '6.75', 'EVToRevenue': '2.969', 'EVToEBITDA': '25.81', 'Beta': '0.889', '52WeekHigh': '153.21', '52WeekLow': '114.19', '50DayMovingAverage': '140.74', '200DayMovingAverage': '134.11', 'SharesOutstanding': '896320000', 'DividendDate': '2022-12-10', 'ExDividendDate': '2022-11-09'}\n"
     ]
    },
    {
     "data": {
      "text/plain": [
       "('23.26', '31486000000')"
      ]
     },
     "execution_count": 10,
     "metadata": {},
     "output_type": "execute_result"
    }
   ],
   "source": [
    "company_overview(\"IBM\")"
   ]
  },
  {
   "cell_type": "code",
   "execution_count": null,
   "metadata": {},
   "outputs": [],
   "source": []
  },
  {
   "cell_type": "code",
   "execution_count": null,
   "metadata": {},
   "outputs": [],
   "source": []
  },
  {
   "cell_type": "code",
   "execution_count": 10,
   "metadata": {},
   "outputs": [
    {
     "name": "stderr",
     "output_type": "stream",
     "text": [
      "[Stage 0:>                                                          (0 + 1) / 1]\r"
     ]
    },
    {
     "name": "stdout",
     "output_type": "stream",
     "text": [
      "+------------+-----+-----+------+-----+\n",
      "|Company_name| Open| High|   Low|Close|\n",
      "+------------+-----+-----+------+-----+\n",
      "|        APLE|15.57|15.86|15.465|15.83|\n",
      "+------------+-----+-----+------+-----+\n",
      "\n"
     ]
    },
    {
     "name": "stderr",
     "output_type": "stream",
     "text": [
      "                                                                                \r"
     ]
    }
   ],
   "source": [
    "company_name = \"APLE\"\n",
    "date = \"2022-12-23\"\n",
    "apple = company_details(company_name, date)\n",
    "apple.show()"
   ]
  },
  {
   "cell_type": "code",
   "execution_count": 11,
   "metadata": {},
   "outputs": [
    {
     "name": "stdout",
     "output_type": "stream",
     "text": [
      "+------------+------+------+-----+------+\n",
      "|Company_name|  Open|  High|  Low| Close|\n",
      "+------------+------+------+-----+------+\n",
      "|         DPZ|351.35|354.34|347.0|353.02|\n",
      "+------------+------+------+-----+------+\n",
      "\n"
     ]
    }
   ],
   "source": [
    "company_name = \"DPZ\"\n",
    "date = \"2022-12-23\"\n",
    "dominos_pizza = company_details(company_name, date)\n",
    "dominos_pizza.show()"
   ]
  },
  {
   "cell_type": "code",
   "execution_count": 12,
   "metadata": {},
   "outputs": [
    {
     "name": "stdout",
     "output_type": "stream",
     "text": [
      "+------------+-----+-------+------+------+\n",
      "|Company_name| Open|   High|   Low| Close|\n",
      "+------------+-----+-------+------+------+\n",
      "|         MCD|265.9|268.345|264.79|267.57|\n",
      "+------------+-----+-------+------+------+\n",
      "\n"
     ]
    }
   ],
   "source": [
    "company_name = \"MCD\"\n",
    "date = \"2022-12-23\"\n",
    "mc_donalds = company_details(company_name, date)\n",
    "mc_donalds.show()"
   ]
  },
  {
   "cell_type": "code",
   "execution_count": 13,
   "metadata": {},
   "outputs": [
    {
     "name": "stdout",
     "output_type": "stream",
     "text": [
      "+------------+------+------+--------+------+\n",
      "|Company_name|  Open|  High|     Low| Close|\n",
      "+------------+------+------+--------+------+\n",
      "|         ACN|265.79|266.71|263.3079|266.09|\n",
      "+------------+------+------+--------+------+\n",
      "\n"
     ]
    }
   ],
   "source": [
    "company_name = \"ACN\"\n",
    "date = \"2022-12-23\"\n",
    "accenture = company_details(company_name, date)\n",
    "accenture.show()"
   ]
  },
  {
   "cell_type": "code",
   "execution_count": 14,
   "metadata": {},
   "outputs": [
    {
     "name": "stdout",
     "output_type": "stream",
     "text": [
      "+------------+----+----+------+-----+\n",
      "|Company_name|Open|High|   Low|Close|\n",
      "+------------+----+----+------+-----+\n",
      "|         TCS|4.18|4.32|4.1514| 4.26|\n",
      "+------------+----+----+------+-----+\n",
      "\n"
     ]
    }
   ],
   "source": [
    "company_name = \"TCS\"\n",
    "date = \"2022-12-23\"\n",
    "tata_con_services = company_details(company_name, date)\n",
    "tata_con_services.show()"
   ]
  },
  {
   "attachments": {},
   "cell_type": "markdown",
   "metadata": {},
   "source": [
    "## merage data frame"
   ]
  },
  {
   "cell_type": "code",
   "execution_count": 15,
   "metadata": {},
   "outputs": [],
   "source": [
    "appended_one = apple.union(dominos_pizza)\n",
    "appended_two = appended_one.union(mc_donalds)\n",
    "appended_three = appended_two.union(accenture)\n",
    "company_details = appended_three.union(tata_con_services)"
   ]
  },
  {
   "cell_type": "code",
   "execution_count": 16,
   "metadata": {},
   "outputs": [
    {
     "name": "stdout",
     "output_type": "stream",
     "text": [
      "+------------+------+-------+--------+------+\n",
      "|Company_name|  Open|   High|     Low| Close|\n",
      "+------------+------+-------+--------+------+\n",
      "|        APLE| 15.57|  15.86|  15.465| 15.83|\n",
      "|         DPZ|351.35| 354.34|   347.0|353.02|\n",
      "|         MCD| 265.9|268.345|  264.79|267.57|\n",
      "|         ACN|265.79| 266.71|263.3079|266.09|\n",
      "|         TCS|  4.18|   4.32|  4.1514|  4.26|\n",
      "+------------+------+-------+--------+------+\n",
      "\n"
     ]
    }
   ],
   "source": [
    "company_details.show()"
   ]
  }
 ],
 "metadata": {
  "kernelspec": {
   "display_name": "Python 3",
   "language": "python",
   "name": "python3"
  },
  "language_info": {
   "codemirror_mode": {
    "name": "ipython",
    "version": 3
   },
   "file_extension": ".py",
   "mimetype": "text/x-python",
   "name": "python",
   "nbconvert_exporter": "python",
   "pygments_lexer": "ipython3",
   "version": "3.8.10"
  },
  "orig_nbformat": 4,
  "vscode": {
   "interpreter": {
    "hash": "e7370f93d1d0cde622a1f8e1c04877d8463912d04d973331ad4851f04de6915a"
   }
  }
 },
 "nbformat": 4,
 "nbformat_minor": 2
}
