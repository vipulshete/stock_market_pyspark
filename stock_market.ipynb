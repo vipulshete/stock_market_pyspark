{
 "cells": [
  {
   "cell_type": "code",
   "execution_count": 1,
   "metadata": {},
   "outputs": [
    {
     "data": {
      "text/plain": [
       "'\\n    @Author: Vipul Shete\\n    @Date: 2022-12-27\\n    @Last Modified by: Vipul Shete\\n    @Last Modified Date: 2022-12-28\\n    @Title : Stock Market Details, company overview and flow cash (UC-3).\\n'"
      ]
     },
     "execution_count": 1,
     "metadata": {},
     "output_type": "execute_result"
    }
   ],
   "source": [
    "\"\"\"\n",
    "    @Author: Vipul Shete\n",
    "    @Date: 2022-12-27\n",
    "    @Last Modified by: Vipul Shete\n",
    "    @Last Modified Date: 2022-12-28\n",
    "    @Title : Stock Market Details, company overview and flow cash (UC-3).\n",
    "\"\"\""
   ]
  },
  {
   "cell_type": "code",
   "execution_count": 2,
   "metadata": {},
   "outputs": [],
   "source": [
    "from alpha_vantage.timeseries import TimeSeries\n",
    "import pandas as pd\n",
    "from pyspark.sql import SparkSession\n",
    "import requests"
   ]
  },
  {
   "cell_type": "code",
   "execution_count": 3,
   "metadata": {},
   "outputs": [
    {
     "name": "stdout",
     "output_type": "stream",
     "text": [
      "22/12/28 11:02:25 WARN Utils: Your hostname, vipul-HP-Pavilion-Laptop-15-cs2xxx resolves to a loopback address: 127.0.1.1; using 192.168.43.246 instead (on interface wlx001ea63c098f)\n",
      "22/12/28 11:02:25 WARN Utils: Set SPARK_LOCAL_IP if you need to bind to another address\n"
     ]
    },
    {
     "name": "stderr",
     "output_type": "stream",
     "text": [
      "Setting default log level to \"WARN\".\n",
      "To adjust logging level use sc.setLogLevel(newLevel). For SparkR, use setLogLevel(newLevel).\n"
     ]
    },
    {
     "name": "stdout",
     "output_type": "stream",
     "text": [
      "22/12/28 11:02:26 WARN NativeCodeLoader: Unable to load native-hadoop library for your platform... using builtin-java classes where applicable\n"
     ]
    }
   ],
   "source": [
    "spark = SparkSession.builder\\\n",
    "                    .master(\"local\")\\\n",
    "                    .appName('stock_market_UC3')\\\n",
    "                    .getOrCreate()"
   ]
  },
  {
   "cell_type": "code",
   "execution_count": 4,
   "metadata": {},
   "outputs": [
    {
     "data": {
      "text/html": [
       "\n",
       "            <div>\n",
       "                <p><b>SparkSession - in-memory</b></p>\n",
       "                \n",
       "        <div>\n",
       "            <p><b>SparkContext</b></p>\n",
       "\n",
       "            <p><a href=\"http://192.168.43.246:4040\">Spark UI</a></p>\n",
       "\n",
       "            <dl>\n",
       "              <dt>Version</dt>\n",
       "                <dd><code>v3.3.0</code></dd>\n",
       "              <dt>Master</dt>\n",
       "                <dd><code>local</code></dd>\n",
       "              <dt>AppName</dt>\n",
       "                <dd><code>stock_market_UC3</code></dd>\n",
       "            </dl>\n",
       "        </div>\n",
       "        \n",
       "            </div>\n",
       "        "
      ],
      "text/plain": [
       "<pyspark.sql.session.SparkSession at 0x7f72fddda130>"
      ]
     },
     "execution_count": 4,
     "metadata": {},
     "output_type": "execute_result"
    }
   ],
   "source": [
    "spark"
   ]
  },
  {
   "cell_type": "code",
   "execution_count": 12,
   "metadata": {},
   "outputs": [],
   "source": [
    "def daily_stock_price(company_name, date):\n",
    "    \"\"\"\n",
    "        Description:\n",
    "            Get the stock daily status using alpha vantage (open , high, low, close values)\n",
    "        Parameter:\n",
    "            company_name: name of company (symbol used in alpha vantage docomenation)\n",
    "            date: date of records.\n",
    "        Return: \n",
    "            stock details open, high, low, close \n",
    "    \"\"\"\n",
    "    url = f\"https://www.alphavantage.co/query?function=TIME_SERIES_DAILY_ADJUSTED&symbol={company_name}&apikey=3ZN85270ZOKUBGMP\"\n",
    "    r = requests.get(url)\n",
    "    data = r.json()\n",
    "    date_stock_price = data[\"Time Series (Daily)\"][date]\n",
    "    \n",
    "    open = date_stock_price[\"1. open\"]\n",
    "    high = date_stock_price[\"2. high\"]\n",
    "    low = date_stock_price[\"3. low\"]\n",
    "    close = date_stock_price[\"4. close\"]\n",
    "    \n",
    "    return open, high, low, close\n",
    "\n",
    "def company_overview(company_name):\n",
    "    \"\"\"\n",
    "        Description:\n",
    "            Get the company overview using alpha vantage (pe_ratio and gross_profit) year data\n",
    "        Parameter:\n",
    "            company_name: name of company (symbol used in alpha vantage docomenation)\n",
    "            date: date of records.\n",
    "        Return: \n",
    "            stock overview pe_ratio, gross_profit\n",
    "    \"\"\"\n",
    "    url = f\"https://www.alphavantage.co/query?function=OVERVIEW&symbol={company_name}&apikey=3ZN85270ZOKUBGMP\"\n",
    "    r = requests.get(url)\n",
    "    data = r.json()\n",
    "    \n",
    "    pe_ratio = data[\"PERatio\"]\n",
    "    gross_profit = data[\"GrossProfitTTM\"]\n",
    "\n",
    "    return pe_ratio, gross_profit\n",
    "\n",
    "def cash_flow(company_name):\n",
    "    \"\"\"\n",
    "        Description:\n",
    "            Get the company cash flow using alpha vantage (operating_cashflow, profit_loss, net_income) year data\n",
    "        Parameter:\n",
    "            company_name: name of company (symbol used in alpha vantage docomenation)\n",
    "        Return: \n",
    "            stock cash flow operating_cashflow, profit_loss, net_income\n",
    "    \"\"\"\n",
    "    url = f\"https://www.alphavantage.co/query?function=CASH_FLOW&symbol={company_name}&apikey=3ZN85270ZOKUBGMP\"\n",
    "    r = requests.get(url)\n",
    "    data = r.json()\n",
    "    \n",
    "    anaunal_report = data[\"annualReports\"][0]\n",
    "    \n",
    "    operating_cashflow = anaunal_report[\"operatingCashflow\"]\n",
    "    profit_loss = anaunal_report[\"profitLoss\"]\n",
    "    net_income = anaunal_report[\"netIncome\"]\n",
    "\n",
    "\n",
    "    return operating_cashflow, profit_loss, net_income\n",
    "\n",
    "\n",
    "def company_details(company_name, date):\n",
    "    \"\"\"\n",
    "        Description:\n",
    "            make a dataframe of single company\n",
    "        Parameter:\n",
    "            company_name: name of company (symbol used in alpha vantage docomenation)\n",
    "            date: date of records.\n",
    "        Return: \n",
    "            dataframe \n",
    "    \"\"\"\n",
    "    open, high, low, close = daily_stock_price(company_name, date)\n",
    "    pe_ratio, gross_profit = company_overview(company_name)\n",
    "    operating_cashflow, profit_loss, net_income = cash_flow(company_name)\n",
    "\n",
    "    columns = [\"Company_name\", \"Open\", \"High\", \"Low\", \"Close\", \"PE_Ratio\", \"Gross_profit\", \"Operating_Cashflow\", \"Profit_Loss\", \"Net_Income\"]\n",
    "    values = [(company_name, open, high, low, close, pe_ratio, gross_profit, operating_cashflow, profit_loss, net_income)]\n",
    "\n",
    "    stock_info = spark.createDataFrame(values, columns)\n",
    "    \n",
    "    return stock_info"
   ]
  },
  {
   "cell_type": "code",
   "execution_count": 6,
   "metadata": {},
   "outputs": [
    {
     "name": "stderr",
     "output_type": "stream",
     "text": [
      "[Stage 0:>                                                          (0 + 1) / 1]\r"
     ]
    },
    {
     "name": "stdout",
     "output_type": "stream",
     "text": [
      "+------------+-----+-----+------+-----+--------+------------+------------------+-----------+----------+\n",
      "|Company_name| Open| High|   Low|Close|PE_Ratio|Gross_profit|Operating_Cashflow|Profit_Loss|Net_Income|\n",
      "+------------+-----+-----+------+-----+--------+------------+------------------+-----------+----------+\n",
      "|        APLE|15.57|15.86|15.465|15.83|   23.38|   399545000|         217562000|   18828000|  18828000|\n",
      "+------------+-----+-----+------+-----+--------+------------+------------------+-----------+----------+\n",
      "\n"
     ]
    },
    {
     "name": "stderr",
     "output_type": "stream",
     "text": [
      "                                                                                \r"
     ]
    }
   ],
   "source": [
    "company_name = \"APLE\"\n",
    "date = \"2022-12-23\"\n",
    "apple = company_details(company_name, date)\n",
    "apple.show()"
   ]
  },
  {
   "cell_type": "code",
   "execution_count": 7,
   "metadata": {},
   "outputs": [
    {
     "name": "stdout",
     "output_type": "stream",
     "text": [
      "+------------+------+------+-----+------+--------+------------+------------------+-----------+----------+\n",
      "|Company_name|  Open|  High|  Low| Close|PE_Ratio|Gross_profit|Operating_Cashflow|Profit_Loss|Net_Income|\n",
      "+------------+------+------+-----+------+--------+------------+------------------+-----------+----------+\n",
      "|         DPZ|351.35|354.34|347.0|353.02|   28.58|  1208741000|         592794000|  491296000| 491296000|\n",
      "+------------+------+------+-----+------+--------+------------+------------------+-----------+----------+\n",
      "\n"
     ]
    }
   ],
   "source": [
    "company_name = \"DPZ\"\n",
    "date = \"2022-12-23\"\n",
    "dominos_pizza = company_details(company_name, date)\n",
    "dominos_pizza.show()"
   ]
  },
  {
   "cell_type": "code",
   "execution_count": 21,
   "metadata": {},
   "outputs": [
    {
     "name": "stdout",
     "output_type": "stream",
     "text": [
      "+------------+-----+-------+------+------+--------+------------+------------------+-----------+----------+\n",
      "|Company_name| Open|   High|   Low| Close|PE_Ratio|Gross_profit|Operating_Cashflow|Profit_Loss|Net_Income|\n",
      "+------------+-----+-------+------+------+--------+------------+------------------+-----------+----------+\n",
      "|         MCD|265.9|268.345|264.79|267.57|   33.74| 12580200000|        9141500000| 8907700000|7545200000|\n",
      "+------------+-----+-------+------+------+--------+------------+------------------+-----------+----------+\n",
      "\n"
     ]
    }
   ],
   "source": [
    "company_name = \"MCD\"\n",
    "date = \"2022-12-23\"\n",
    "mc_donalds = company_details(company_name, date)\n",
    "mc_donalds.show()"
   ]
  },
  {
   "cell_type": "code",
   "execution_count": 18,
   "metadata": {},
   "outputs": [
    {
     "name": "stdout",
     "output_type": "stream",
     "text": [
      "+------------+------+------+--------+------+--------+------------+------------------+-----------+----------+\n",
      "|Company_name|  Open|  High|     Low| Close|PE_Ratio|Gross_profit|Operating_Cashflow|Profit_Loss|Net_Income|\n",
      "+------------+------+------+--------+------+--------+------------+------------------+-----------+----------+\n",
      "|         ACN|265.79|266.71|263.3079|266.09|   24.17| 19701539000|        9541129000|16185127000|6877169000|\n",
      "+------------+------+------+--------+------+--------+------------+------------------+-----------+----------+\n",
      "\n"
     ]
    }
   ],
   "source": [
    "company_name = \"ACN\"\n",
    "date = \"2022-12-23\"\n",
    "accenture = company_details(company_name, date)\n",
    "accenture.show()"
   ]
  },
  {
   "cell_type": "code",
   "execution_count": 15,
   "metadata": {},
   "outputs": [
    {
     "name": "stdout",
     "output_type": "stream",
     "text": [
      "+------------+----+----+------+-----+--------+------------+------------------+-----------+----------+\n",
      "|Company_name|Open|High|   Low|Close|PE_Ratio|Gross_profit|Operating_Cashflow|Profit_Loss|Net_Income|\n",
      "+------------+----+----+------+-----+--------+------------+------------------+-----------+----------+\n",
      "|         TCS|4.18|4.32|4.1514| 4.26|   3.341|   636237000|          56990000|   81718000|  81718000|\n",
      "+------------+----+----+------+-----+--------+------------+------------------+-----------+----------+\n",
      "\n"
     ]
    }
   ],
   "source": [
    "company_name = \"TCS\"\n",
    "date = \"2022-12-23\"\n",
    "tata_con_services = company_details(company_name, date)\n",
    "tata_con_services.show()"
   ]
  },
  {
   "attachments": {},
   "cell_type": "markdown",
   "metadata": {},
   "source": [
    "## merage data frame"
   ]
  },
  {
   "cell_type": "code",
   "execution_count": 22,
   "metadata": {},
   "outputs": [],
   "source": [
    "appended_one = apple.union(dominos_pizza)\n",
    "appended_two = appended_one.union(mc_donalds)\n",
    "appended_three = appended_two.union(accenture)\n",
    "company_details = appended_three.union(tata_con_services)"
   ]
  },
  {
   "cell_type": "code",
   "execution_count": 23,
   "metadata": {},
   "outputs": [
    {
     "name": "stdout",
     "output_type": "stream",
     "text": [
      "+------------+------+-------+--------+------+--------+------------+------------------+-----------+----------+\n",
      "|Company_name|  Open|   High|     Low| Close|PE_Ratio|Gross_profit|Operating_Cashflow|Profit_Loss|Net_Income|\n",
      "+------------+------+-------+--------+------+--------+------------+------------------+-----------+----------+\n",
      "|        APLE| 15.57|  15.86|  15.465| 15.83|   23.38|   399545000|         217562000|   18828000|  18828000|\n",
      "|         DPZ|351.35| 354.34|   347.0|353.02|   28.58|  1208741000|         592794000|  491296000| 491296000|\n",
      "|         MCD| 265.9|268.345|  264.79|267.57|   33.74| 12580200000|        9141500000| 8907700000|7545200000|\n",
      "|         ACN|265.79| 266.71|263.3079|266.09|   24.17| 19701539000|        9541129000|16185127000|6877169000|\n",
      "|         TCS|  4.18|   4.32|  4.1514|  4.26|   3.341|   636237000|          56990000|   81718000|  81718000|\n",
      "+------------+------+-------+--------+------+--------+------------+------------------+-----------+----------+\n",
      "\n"
     ]
    }
   ],
   "source": [
    "company_details.show()"
   ]
  }
 ],
 "metadata": {
  "kernelspec": {
   "display_name": "Python 3",
   "language": "python",
   "name": "python3"
  },
  "language_info": {
   "codemirror_mode": {
    "name": "ipython",
    "version": 3
   },
   "file_extension": ".py",
   "mimetype": "text/x-python",
   "name": "python",
   "nbconvert_exporter": "python",
   "pygments_lexer": "ipython3",
   "version": "3.8.10"
  },
  "orig_nbformat": 4,
  "vscode": {
   "interpreter": {
    "hash": "e7370f93d1d0cde622a1f8e1c04877d8463912d04d973331ad4851f04de6915a"
   }
  }
 },
 "nbformat": 4,
 "nbformat_minor": 2
}
